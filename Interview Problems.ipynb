{
 "cells": [
  {
   "cell_type": "markdown",
   "metadata": {},
   "source": [
    "EX.1"
   ]
  },
  {
   "cell_type": "code",
   "execution_count": 1,
   "metadata": {},
   "outputs": [
    {
     "name": "stdout",
     "output_type": "stream",
     "text": [
      "1\n",
      "2\n",
      "Fizz\n",
      "4\n",
      "Buzz\n",
      "Fizz\n",
      "7\n",
      "8\n",
      "Fizz\n",
      "Buzz\n",
      "11\n",
      "Fizz\n",
      "13\n",
      "14\n",
      "FizzBuzz\n",
      "16\n",
      "17\n",
      "Fizz\n",
      "19\n",
      "Buzz\n",
      "Fizz\n",
      "22\n",
      "23\n",
      "Fizz\n",
      "Buzz\n",
      "26\n",
      "Fizz\n",
      "28\n",
      "29\n",
      "FizzBuzz\n",
      "31\n",
      "32\n",
      "Fizz\n",
      "34\n",
      "Buzz\n",
      "Fizz\n",
      "37\n",
      "38\n",
      "Fizz\n",
      "Buzz\n",
      "41\n",
      "Fizz\n",
      "43\n",
      "44\n",
      "FizzBuzz\n",
      "46\n",
      "47\n",
      "Fizz\n",
      "49\n",
      "Buzz\n",
      "Fizz\n",
      "52\n",
      "53\n",
      "Fizz\n",
      "Buzz\n",
      "56\n",
      "Fizz\n",
      "58\n",
      "59\n",
      "FizzBuzz\n",
      "61\n",
      "62\n",
      "Fizz\n",
      "64\n",
      "Buzz\n",
      "Fizz\n",
      "67\n",
      "68\n",
      "Fizz\n",
      "Buzz\n",
      "71\n",
      "Fizz\n",
      "73\n",
      "74\n",
      "FizzBuzz\n",
      "76\n",
      "77\n",
      "Fizz\n",
      "79\n",
      "Buzz\n",
      "Fizz\n",
      "82\n",
      "83\n",
      "Fizz\n",
      "Buzz\n",
      "86\n",
      "Fizz\n",
      "88\n",
      "89\n",
      "FizzBuzz\n",
      "91\n",
      "92\n",
      "Fizz\n",
      "94\n",
      "Buzz\n",
      "Fizz\n",
      "97\n",
      "98\n",
      "Fizz\n",
      "Buzz\n"
     ]
    }
   ],
   "source": [
    "for i in range(1,101):\n",
    "    if i % 3 == 0 and i % 5 ==0:\n",
    "        print('FizzBuzz')\n",
    "    elif i % 3 ==0:\n",
    "        print('Fizz')\n",
    "    elif i % 5 == 0:\n",
    "        print('Buzz')\n",
    "    else:\n",
    "        print(i)"
   ]
  },
  {
   "cell_type": "markdown",
   "metadata": {},
   "source": [
    "EX.2"
   ]
  },
  {
   "cell_type": "code",
   "execution_count": 2,
   "metadata": {
    "scrolled": true
   },
   "outputs": [
    {
     "name": "stdout",
     "output_type": "stream",
     "text": [
      "2004\n",
      "2004 -> true\n"
     ]
    }
   ],
   "source": [
    "def leap_year(): \n",
    "    year = int(input())\n",
    "    if year % 400 == 0:\n",
    "        print(str(year) + ' -> ' + 'true')\n",
    "    elif year % 400 != 0 and year % 100 != 0 :\n",
    "        if year % 4 == 0 :\n",
    "            print(str(year) + ' -> ' + 'true')\n",
    "        else:\n",
    "            print(str(year) + ' -> ' + 'false')\n",
    "    else:\n",
    "        print(str(year) + ' -> ' + 'false')\n",
    "leap_year()"
   ]
  },
  {
   "cell_type": "markdown",
   "metadata": {},
   "source": [
    "Ex. 3.1"
   ]
  },
  {
   "cell_type": "code",
   "execution_count": 3,
   "metadata": {},
   "outputs": [
    {
     "name": "stdout",
     "output_type": "stream",
     "text": [
      "6\n",
      "*\n",
      "**\n",
      "***\n",
      "****\n",
      "*****\n",
      "******\n"
     ]
    }
   ],
   "source": [
    "num1 = int(input())\n",
    "for i in range(num1):\n",
    "    a = i+1\n",
    "    print('*'*a)"
   ]
  },
  {
   "cell_type": "markdown",
   "metadata": {},
   "source": [
    "Ex. 3.2"
   ]
  },
  {
   "cell_type": "code",
   "execution_count": 4,
   "metadata": {},
   "outputs": [
    {
     "name": "stdout",
     "output_type": "stream",
     "text": [
      "6\n",
      "     *\n",
      "    **\n",
      "   ***\n",
      "  ****\n",
      " *****\n",
      "******\n"
     ]
    }
   ],
   "source": [
    "num2 = int(input())\n",
    "for i in range(num2):\n",
    "    a = i+1\n",
    "    b = num2 - a\n",
    "    print(' '*b + '*'*a)"
   ]
  },
  {
   "cell_type": "markdown",
   "metadata": {},
   "source": [
    "Ex. 3.3"
   ]
  },
  {
   "cell_type": "code",
   "execution_count": 4,
   "metadata": {},
   "outputs": [
    {
     "name": "stdout",
     "output_type": "stream",
     "text": [
      "6\n",
      "     *\n",
      "    * *\n",
      "   *   *\n",
      "  *     *\n",
      " *       *\n",
      "*         *\n"
     ]
    }
   ],
   "source": [
    "num3 = int(input())\n",
    "c = 1\n",
    "for i in range(num3):\n",
    "    a = i+1\n",
    "    b = num3 - a\n",
    "    if num3 == 1:\n",
    "        print('*')\n",
    "    else:\n",
    "        if a == 1:\n",
    "            print(' '*(num3-1)+'*')\n",
    "        else:\n",
    "            print(' '*b +'*' +' '*c + '*'  )\n",
    "            c += 2"
   ]
  },
  {
   "cell_type": "markdown",
   "metadata": {},
   "source": [
    "Ex. 3.4"
   ]
  },
  {
   "cell_type": "code",
   "execution_count": 6,
   "metadata": {
    "scrolled": false
   },
   "outputs": [
    {
     "name": "stdout",
     "output_type": "stream",
     "text": [
      "5\n",
      "*   *\n",
      " * *\n",
      "  *\n",
      " * *\n",
      "*   *\n"
     ]
    }
   ],
   "source": [
    "n4 = int(input())\n",
    "\n",
    "if n4 % 2 ==0:\n",
    "    d1 = int(n4/2)\n",
    "    f1 = 2\n",
    "    f2 = n4\n",
    "    for i in range(d1):\n",
    "        b=n4-f1\n",
    "        print(' '*i+'*'+' '*b+'*')\n",
    "        f1 = f1 + 2\n",
    "    for j in  range(d1-1,-1,-1):\n",
    "        b=n4-f2\n",
    "        print(' '*j+'*'+' '*b+'*')\n",
    "        f2 = int(f2 -2)\n",
    "else:\n",
    "    d2 = int(n4/2)\n",
    "    f1 = 2\n",
    "    f2 = n4-1\n",
    "    for k in range(d2):\n",
    "        b = n4 - f1\n",
    "        print(' '*k+'*'+' '*b+'*')\n",
    "        f1 += 2\n",
    "    for l in range(d2,-1,-1):\n",
    "        b=n4-f2\n",
    "        if l == d2:\n",
    "            print(' '*d2+'*')\n",
    "        else:\n",
    "            print(' '*l+'*'+' '*b+'*')\n",
    "            f2 -= 2"
   ]
  },
  {
   "cell_type": "markdown",
   "metadata": {},
   "source": [
    "Ex. 3.5"
   ]
  },
  {
   "cell_type": "code",
   "execution_count": 5,
   "metadata": {
    "scrolled": false
   },
   "outputs": [
    {
     "name": "stdout",
     "output_type": "stream",
     "text": [
      "5\n",
      "  *\n",
      " ***\n",
      "*****\n",
      " ***\n",
      "  *\n"
     ]
    }
   ],
   "source": [
    "n5 = int(input())\n",
    "if n5 % 2 ==0:\n",
    "    d1 = int(n5/2)\n",
    "    count1 = 1\n",
    "    count2 = n5-1\n",
    "    for i in range(d1-1,-1,-1):\n",
    "        print(' '*i+'*'*count1)\n",
    "        f1 = f1 + 2\n",
    "        count1+=2\n",
    "        print(i)\n",
    "    for j in  range(d1):\n",
    "        b=n5-f2\n",
    "        print(' '*j+'*'*count2)\n",
    "        count2 -= 2\n",
    "else:\n",
    "    d2 = int(n5/2)\n",
    "    cc = 1\n",
    "    count1 = 1\n",
    "    count2 = n5\n",
    "    for k in range(d2):\n",
    "        a = (d2)-k\n",
    "        print(' '*a+'*'*count1)\n",
    "#         print(k)\n",
    "        count1+=2\n",
    "    for l in range(d2,-1,-1):\n",
    "        if l == d2:\n",
    "            print('*'*n5)\n",
    "        else:\n",
    "            a = (d2) - l\n",
    "            print(' '*a+'*'*count2)\n",
    "        count2 -= 2\n",
    "\n",
    "    \n",
    "        "
   ]
  },
  {
   "cell_type": "markdown",
   "metadata": {},
   "source": [
    "Ex 3.6"
   ]
  },
  {
   "cell_type": "code",
   "execution_count": 8,
   "metadata": {},
   "outputs": [
    {
     "name": "stdout",
     "output_type": "stream",
     "text": [
      "6\n",
      "AAAAA+BBBBB\n",
      "AAAA+E+BBBB\n",
      "AAA+EEE+BBB\n",
      "AA+EEEEE+BB\n",
      "A+EEEEEEE+B\n",
      "+EEEEEEEEE+\n",
      "C+EEEEEEE+D\n",
      "CC+EEEEE+DD\n",
      "CCC+EEE+DDD\n",
      "CCCC+E+DDDD\n",
      "CCCCC+DDDDD\n"
     ]
    }
   ],
   "source": [
    "n = int(input())\n",
    "a = n-1\n",
    "o1 = 3\n",
    "for i in range(n):\n",
    "    for j in range(i):\n",
    "        pass\n",
    "    if i >= 2:\n",
    "        i = 1\n",
    "        print('A'*a+'+'+\"E\"*o1+'+'*i+'B'*a)\n",
    "        o1+=2\n",
    "    else:\n",
    "        print('A'*a+'+'+\"E\"*i+'+'*i+'B'*a)\n",
    "    a-=1\n",
    "b = 1   \n",
    "o2 = o1-2\n",
    "for k in range(n-2,-1,-1):\n",
    "    for l in range(k):\n",
    "        pass\n",
    "    if k >= 2:\n",
    "        k = 1\n",
    "        o2-=2\n",
    "        print('C'*b+'+'+\"E\"*o2+'+'*k+'D'*b)\n",
    "    else:\n",
    "        print('C'*b+'+'+\"E\"*k+'+'*k+'D'*b)\n",
    "    b+=1"
   ]
  },
  {
   "cell_type": "markdown",
   "metadata": {},
   "source": [
    "Python specific In Python, what is the difference between else and finally in exception handling?\n",
    "\n",
    "ans: else จะทำงานเมื่อไม่เกิดข้อผิดพลาดขึ้นในขณะที่โปรแกรมทำงานในบล็อคคำสั่ง try แต่ คำสั่ง finally จะทำงานในบล็อคคำสั่งนี้เสมอ ไม่ว่าจะเกิดข้อผิดพลาดหรือไม่ก็ตาม"
   ]
  },
  {
   "cell_type": "markdown",
   "metadata": {},
   "source": [
    "Medium 1"
   ]
  },
  {
   "cell_type": "code",
   "execution_count": 12,
   "metadata": {},
   "outputs": [
    {
     "name": "stdout",
     "output_type": "stream",
     "text": [
      "20\n",
      "2\n",
      "3\n",
      "5\n",
      "7\n",
      "11\n",
      "13\n",
      "17\n",
      "19\n"
     ]
    }
   ],
   "source": [
    "num = int(input())\n",
    "for i in range(num+1):\n",
    "    if i > 1:\n",
    "        for j in range(2,i):\n",
    "            if i%j == 0:\n",
    "                break\n",
    "        else:\n",
    "            print(i)"
   ]
  },
  {
   "cell_type": "code",
   "execution_count": null,
   "metadata": {},
   "outputs": [],
   "source": []
  }
 ],
 "metadata": {
  "kernelspec": {
   "display_name": "Python 3",
   "language": "python",
   "name": "python3"
  },
  "language_info": {
   "codemirror_mode": {
    "name": "ipython",
    "version": 3
   },
   "file_extension": ".py",
   "mimetype": "text/x-python",
   "name": "python",
   "nbconvert_exporter": "python",
   "pygments_lexer": "ipython3",
   "version": "3.8.0"
  }
 },
 "nbformat": 4,
 "nbformat_minor": 4
}
